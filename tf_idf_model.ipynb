{
 "cells": [
  {
   "cell_type": "markdown",
   "metadata": {},
   "source": [
    "# Importing Dataset"
   ]
  },
  {
   "cell_type": "code",
   "execution_count": 18,
   "metadata": {},
   "outputs": [],
   "source": [
    "import pandas as pd\n",
    "import re\n",
    "import matplotlib.pyplot as plt\n",
    "import seaborn as sns"
   ]
  },
  {
   "cell_type": "code",
   "execution_count": 19,
   "metadata": {},
   "outputs": [],
   "source": [
    "df_resume=pd.read_csv('raw_data/Data_Set_CV_Cleaned_version test.csv')\n",
    "df_resume.drop(['Unnamed: 0'],axis=1,inplace=True)\n",
    "df_resume=df_resume.rename(columns={'New_Category':'Category','CV_cleaned':'Resume'})\n",
    "df_resume.dropna(inplace=True)\n",
    "df_resume=df_resume.drop_duplicates()\n",
    "df_resume['lenght']=df_resume['Resume'].apply(len)"
   ]
  },
  {
   "cell_type": "code",
   "execution_count": 20,
   "metadata": {},
   "outputs": [],
   "source": [
    "len_max=10000\n",
    "df_resume_filtred=df_resume[df_resume['lenght']<len_max]"
   ]
  },
  {
   "cell_type": "code",
   "execution_count": 21,
   "metadata": {},
   "outputs": [
    {
     "data": {
      "text/plain": [
       "15"
      ]
     },
     "execution_count": 21,
     "metadata": {},
     "output_type": "execute_result"
    }
   ],
   "source": [
    "num_categories= len(df_resume_filtred['Category'].value_counts())\n",
    "num_categories"
   ]
  },
  {
   "cell_type": "code",
   "execution_count": 22,
   "metadata": {},
   "outputs": [
    {
     "name": "stderr",
     "output_type": "stream",
     "text": [
      "/var/folders/87/81r_6drs6w508tt7lz6gngyh0000gn/T/ipykernel_3443/1570876403.py:4: SettingWithCopyWarning: \n",
      "A value is trying to be set on a copy of a slice from a DataFrame.\n",
      "Try using .loc[row_indexer,col_indexer] = value instead\n",
      "\n",
      "See the caveats in the documentation: https://pandas.pydata.org/pandas-docs/stable/user_guide/indexing.html#returning-a-view-versus-a-copy\n",
      "  df_resume_filtred['N_Category'] = label_encoder.fit_transform(df_resume_filtred['Category'])\n"
     ]
    }
   ],
   "source": [
    "from sklearn.preprocessing import LabelEncoder\n",
    "# Convert labels to integers\n",
    "label_encoder = LabelEncoder()\n",
    "df_resume_filtred['N_Category'] = label_encoder.fit_transform(df_resume_filtred['Category'])"
   ]
  },
  {
   "cell_type": "markdown",
   "metadata": {},
   "source": [
    "# Logistic Regression Model TF-IDF "
   ]
  },
  {
   "cell_type": "code",
   "execution_count": 23,
   "metadata": {},
   "outputs": [],
   "source": [
    "#Division des données en ensembles d'entraînement, de validation et de test\n",
    "# Création d'un échantillon aléatoire de  du dataset complet\n",
    "frac=0.2\n",
    "sample_df = df_resume_filtred.sample(frac=frac, random_state=42)\n",
    "full_df=df_resume_filtred\n",
    "\n",
    "df=sample_df"
   ]
  },
  {
   "cell_type": "code",
   "execution_count": 24,
   "metadata": {},
   "outputs": [
    {
     "name": "stdout",
     "output_type": "stream",
     "text": [
      "Meilleurs paramètres: {'C': 100, 'max_iter': 100}\n",
      "Cross-Validation Scores: [0.55555556 0.67346939 0.59183673 0.59183673 0.64285714]\n",
      "Moyenne des Scores de Validation Croisée: 0.611111111111111\n",
      "Accuracy: 0.5609756097560976\n",
      "Classification Report:\n",
      "               precision    recall  f1-score   support\n",
      "\n",
      "           0       0.33      0.56      0.42         9\n",
      "           1       0.37      0.70      0.48        10\n",
      "           2       0.80      0.57      0.67         7\n",
      "           3       0.61      0.73      0.67        15\n",
      "           4       0.42      0.83      0.56         6\n",
      "           5       0.75      0.75      0.75         8\n",
      "           6       1.00      0.80      0.89        10\n",
      "           7       0.50      0.25      0.33         4\n",
      "           8       0.91      0.71      0.80        14\n",
      "           9       0.00      0.00      0.00        10\n",
      "          10       0.57      0.67      0.62        12\n",
      "          11       0.00      0.00      0.00         5\n",
      "          12       0.00      0.00      0.00         4\n",
      "          13       0.75      0.60      0.67         5\n",
      "          14       0.33      0.25      0.29         4\n",
      "\n",
      "    accuracy                           0.56       123\n",
      "   macro avg       0.49      0.49      0.48       123\n",
      "weighted avg       0.54      0.56      0.54       123\n",
      "\n"
     ]
    },
    {
     "name": "stderr",
     "output_type": "stream",
     "text": [
      "/Users/hamza/.pyenv/versions/3.10.6/envs/lewagon/lib/python3.10/site-packages/sklearn/metrics/_classification.py:1334: UndefinedMetricWarning: Precision and F-score are ill-defined and being set to 0.0 in labels with no predicted samples. Use `zero_division` parameter to control this behavior.\n",
      "  _warn_prf(average, modifier, msg_start, len(result))\n",
      "/Users/hamza/.pyenv/versions/3.10.6/envs/lewagon/lib/python3.10/site-packages/sklearn/metrics/_classification.py:1334: UndefinedMetricWarning: Precision and F-score are ill-defined and being set to 0.0 in labels with no predicted samples. Use `zero_division` parameter to control this behavior.\n",
      "  _warn_prf(average, modifier, msg_start, len(result))\n",
      "/Users/hamza/.pyenv/versions/3.10.6/envs/lewagon/lib/python3.10/site-packages/sklearn/metrics/_classification.py:1334: UndefinedMetricWarning: Precision and F-score are ill-defined and being set to 0.0 in labels with no predicted samples. Use `zero_division` parameter to control this behavior.\n",
      "  _warn_prf(average, modifier, msg_start, len(result))\n"
     ]
    }
   ],
   "source": [
    "from sklearn.feature_extraction.text import TfidfVectorizer\n",
    "from sklearn.linear_model import LogisticRegression\n",
    "from sklearn.metrics import accuracy_score, classification_report\n",
    "from sklearn.model_selection import train_test_split\n",
    "from sklearn.model_selection import GridSearchCV\n",
    "from sklearn.model_selection import cross_val_score, StratifiedKFold\n",
    "\n",
    "# Division en deux set d'entraînement et de test sur tout le dataset\n",
    "X=df['Resume']\n",
    "y=df['N_Category']\n",
    "\n",
    "X_train, X_test, y_train, y_test = train_test_split(X, y, test_size=0.2, random_state=42)\n",
    "\n",
    "# Création d'une représentation TF-IDF des textes\n",
    "tfidf_vectorizer = TfidfVectorizer(max_features=50000)\n",
    "X_train_tfidf = tfidf_vectorizer.fit_transform(X_train)\n",
    "X_test_tfidf = tfidf_vectorizer.transform(X_test)\n",
    "\n",
    "# Entraînement\n",
    "logistic_regression_model = LogisticRegression(max_iter=40000, solver='liblinear')\n",
    "\n",
    "# Définir les paramètres à optimiser\n",
    "param_grid = {'C': [0.001, 0.01, 0.1, 1, 10, 100], 'max_iter': [100, 1000, 10000, 20000]}\n",
    "\n",
    "# Utiliser GridSearchCV pour optimiser les paramètres\n",
    "grid_search = GridSearchCV(logistic_regression_model, param_grid, cv=5)\n",
    "grid_search.fit(X_train_tfidf, y_train)\n",
    "\n",
    "# Afficher les meilleurs paramètres\n",
    "print(\"Meilleurs paramètres:\", grid_search.best_params_)\n",
    "\n",
    "# Utiliser le modèle avec les meilleurs paramètres\n",
    "logistic_regression_model = grid_search.best_estimator_\n",
    "\n",
    "\n",
    "# Évaluation avec validation croisée\n",
    "cv_scores = cross_val_score(logistic_regression_model, X_train_tfidf, y_train, cv=StratifiedKFold(n_splits=5, shuffle=True, random_state=42))\n",
    "\n",
    "# Afficher les scores de validation croisée\n",
    "print(\"Cross-Validation Scores:\", cv_scores)\n",
    "print(\"Moyenne des Scores de Validation Croisée:\", cv_scores.mean())\n",
    "\n",
    "#fit the model\n",
    "logistic_regression_model.fit(X_train_tfidf, y_train)\n",
    "\n",
    "# Predict\n",
    "predictions = logistic_regression_model.predict(X_test_tfidf)\n",
    "\n",
    "# evaluation\n",
    "accuracy = accuracy_score(y_test, predictions)\n",
    "report = classification_report(y_test, predictions)\n",
    "\n",
    "print(\"Accuracy:\", accuracy)\n",
    "print(\"Classification Report:\\n\", report)\n"
   ]
  },
  {
   "cell_type": "code",
   "execution_count": 27,
   "metadata": {},
   "outputs": [
    {
     "data": {
      "text/plain": [
       "['models/tfidf_vectorizer.joblib']"
      ]
     },
     "execution_count": 27,
     "metadata": {},
     "output_type": "execute_result"
    }
   ],
   "source": [
    "# Sauvegarder le modèle\n",
    "import joblib\n",
    "\n",
    "joblib.dump(label_encoder, 'models/label_encoder.joblib')\n",
    "joblib.dump(logistic_regression_model, 'models/tf_idf_model.joblib')\n",
    "#joblib.dump(tfidf_model, 'models/tf_idf_model.joblib')\n",
    "joblib.dump(tfidf_vectorizer, 'models/tfidf_vectorizer.joblib')\n",
    "\n"
   ]
  }
 ],
 "metadata": {
  "kernelspec": {
   "display_name": "lewagon",
   "language": "python",
   "name": "python3"
  },
  "language_info": {
   "codemirror_mode": {
    "name": "ipython",
    "version": 3
   },
   "file_extension": ".py",
   "mimetype": "text/x-python",
   "name": "python",
   "nbconvert_exporter": "python",
   "pygments_lexer": "ipython3",
   "version": "3.10.6"
  }
 },
 "nbformat": 4,
 "nbformat_minor": 2
}
